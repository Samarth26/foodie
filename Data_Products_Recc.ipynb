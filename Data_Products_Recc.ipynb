{
 "cells": [
  {
   "cell_type": "code",
   "execution_count": 237,
   "id": "41aa4806-4eef-4a3f-a421-dff77e479076",
   "metadata": {},
   "outputs": [],
   "source": [
    "import numpy as np\n",
    "import pandas as pd\n",
    "from sklearn.preprocessing import LabelEncoder\n",
    "from  tensorflow.keras.preprocessing.sequence import pad_sequences"
   ]
  },
  {
   "cell_type": "code",
   "execution_count": 239,
   "id": "785d102a-7d0f-434c-b047-2e656e14df08",
   "metadata": {},
   "outputs": [],
   "source": [
    "class MF():\n",
    "\n",
    "    def __init__(self, R, K, alpha, beta, iterations):\n",
    "        \"\"\"\n",
    "        Perform matrix factorization to predict empty\n",
    "        entries in a matrix.\n",
    "\n",
    "        Arguments\n",
    "        - R (ndarray)   : user-item rating matrix\n",
    "        - K (int)       : number of latent dimensions\n",
    "        - alpha (float) : learning rate\n",
    "        - beta (float)  : regularization parameter\n",
    "        \"\"\"\n",
    "\n",
    "        self.R = R\n",
    "        self.num_users, self.num_items = R.shape\n",
    "        self.K = K\n",
    "        self.alpha = alpha\n",
    "        self.beta = beta\n",
    "        self.iterations = iterations\n",
    "\n",
    "    def train(self):\n",
    "        # Initialize user and item latent feature matrice\n",
    "        self.P = np.random.normal(scale=1./self.K, size=(self.num_users, self.K))\n",
    "        self.Q = np.random.normal(scale=1./self.K, size=(self.num_items, self.K))\n",
    "\n",
    "        # Initialize the biases\n",
    "        self.b_u = np.zeros(self.num_users)\n",
    "        self.b_i = np.zeros(self.num_items)\n",
    "        self.b = np.mean(self.R[np.where(self.R != 0)])\n",
    "\n",
    "        # Create a list of training samples\n",
    "        self.samples = [\n",
    "            (i, j, self.R[i, j])\n",
    "            for i in range(self.num_users)\n",
    "            for j in range(self.num_items)\n",
    "            if self.R[i, j] > 0\n",
    "        ]\n",
    "\n",
    "        # Perform stochastic gradient descent for number of iterations\n",
    "        training_process = []\n",
    "        for i in range(self.iterations):\n",
    "            np.random.shuffle(self.samples)\n",
    "            self.sgd()\n",
    "            mse = self.mse()\n",
    "            training_process.append((i, mse))\n",
    "            if (i+1) % 10 == 0:\n",
    "                print(\"Iteration: %d ; error = %.4f\" % (i+1, mse))\n",
    "\n",
    "        return training_process\n",
    "\n",
    "    def mse(self):\n",
    "        \"\"\"\n",
    "        A function to compute the total mean square error\n",
    "        \"\"\"\n",
    "        xs, ys = self.R.nonzero()\n",
    "        predicted = self.full_matrix()\n",
    "        error = 0\n",
    "        for x, y in zip(xs, ys):\n",
    "            error += pow(self.R[x, y] - predicted[x, y], 2)\n",
    "        return np.sqrt(error)\n",
    "\n",
    "    def sgd(self):\n",
    "        \"\"\"\n",
    "        Perform stochastic graident descent\n",
    "        \"\"\"\n",
    "        for i, j, r in self.samples:\n",
    "            # Computer prediction and error\n",
    "            prediction = self.get_rating(i, j)\n",
    "            e = (r - prediction)\n",
    "\n",
    "            # Update biases\n",
    "            self.b_u[i] += self.alpha * (e - self.beta * self.b_u[i])\n",
    "            self.b_i[j] += self.alpha * (e - self.beta * self.b_i[j])\n",
    "\n",
    "            # Update user and item latent feature matrices\n",
    "            self.P[i, :] += self.alpha * (e * self.Q[j, :] - self.beta * self.P[i,:])\n",
    "            self.Q[j, :] += self.alpha * (e * self.P[i, :] - self.beta * self.Q[j,:])\n",
    "\n",
    "    def get_rating(self, i, j):\n",
    "        \"\"\"\n",
    "        Get the predicted rating of user i and item j\n",
    "        \"\"\"\n",
    "        prediction = self.b + self.b_u[i] + self.b_i[j] + self.P[i, :].dot(self.Q[j, :].T)\n",
    "        return prediction\n",
    "\n",
    "    def full_matrix(self):\n",
    "        \"\"\"\n",
    "        Computer the full matrix using the resultant biases, P and Q\n",
    "        \"\"\"\n",
    "        return self.b + self.b_u[:,np.newaxis] + self.b_i[np.newaxis:,] + self.P.dot(self.Q.T)"
   ]
  },
  {
   "cell_type": "code",
   "execution_count": 240,
   "id": "3e772e20-dc87-4134-be41-1c14e67e0898",
   "metadata": {},
   "outputs": [],
   "source": [
    "def sigmoid(x):\n",
    "    return 1/(1+np.exp(-x))"
   ]
  },
  {
   "cell_type": "code",
   "execution_count": 241,
   "id": "ae384016-4602-405c-8edf-52400b820e18",
   "metadata": {},
   "outputs": [],
   "source": [
    "# Implement Content Based Filtering\n",
    "from sklearn.metrics.pairwise import cosine_similarity\n",
    "from numpy import dot\n",
    "from numpy.linalg import norm\n",
    "\n",
    "\n",
    "\n",
    "item = np.array([[1, 0, 1],[1, 1, 1], [0, 1, 1], [0, 0, 1]])\n",
    "\n",
    "user = np.array([[0, 1, 1], [1, 1, 0]])"
   ]
  },
  {
   "cell_type": "code",
   "execution_count": 242,
   "id": "d824e34e-e4cf-442b-9ab0-ce35e00ac408",
   "metadata": {},
   "outputs": [],
   "source": [
    "def get_item_user(user_arr, item):\n",
    "    user_item = []\n",
    "    for user in user_arr:\n",
    "         user_item.append(list(dot(user, item.T)))\n",
    "\n",
    "    return user_item"
   ]
  },
  {
   "cell_type": "code",
   "execution_count": 243,
   "id": "417ce4d4-99e7-470f-9571-57ff75c42a79",
   "metadata": {},
   "outputs": [
    {
     "data": {
      "text/plain": [
       "[[0.7310585786300049,\n",
       "  0.8807970779778823,\n",
       "  0.8807970779778823,\n",
       "  0.7310585786300049],\n",
       " [0.7310585786300049, 0.8807970779778823, 0.7310585786300049, 0.5]]"
      ]
     },
     "execution_count": 243,
     "metadata": {},
     "output_type": "execute_result"
    }
   ],
   "source": [
    "item_user = sigmoid(np.array(get_item_user(user, item))).tolist()\n",
    "item_user"
   ]
  },
  {
   "cell_type": "code",
   "execution_count": 244,
   "id": "4e5da8cb-cc2b-4479-b2c8-1136a60d3f25",
   "metadata": {},
   "outputs": [],
   "source": [
    "def item_item(item):\n",
    "    item_item = []\n",
    "    for i in range(0, len(item)):\n",
    "        item_similarity = []\n",
    "        for j in range(0, len(item)):\n",
    "            #if(i!=j):\n",
    "            cos_sim = dot(item[i], item[j])/(norm(item[i])*norm(item[j]))\n",
    "            item_similarity.append(cos_sim)\n",
    "        item_item.append(item_similarity)\n",
    "\n",
    "    return item_item\n",
    "\n",
    "item_item_matrix = item_item(item)\n",
    "    "
   ]
  },
  {
   "cell_type": "code",
   "execution_count": 245,
   "id": "42d2c978-1276-47ca-b85f-53444a35f2c4",
   "metadata": {},
   "outputs": [
    {
     "name": "stdout",
     "output_type": "stream",
     "text": [
      "[[0.9999999999999998, 0.8164965809277259, 0.4999999999999999, 0.7071067811865475], [0.8164965809277259, 1.0000000000000002, 0.8164965809277259, 0.5773502691896258], [0.4999999999999999, 0.8164965809277259, 0.9999999999999998, 0.7071067811865475], [0.7071067811865475, 0.5773502691896258, 0.7071067811865475, 1.0]]\n",
      "(4, 4)\n"
     ]
    }
   ],
   "source": [
    "print(item_item_matrix)\n",
    "\n",
    "print(np.shape(item_item_matrix))"
   ]
  },
  {
   "cell_type": "code",
   "execution_count": 246,
   "id": "28981082-b168-45a2-ba1e-707ba743dd05",
   "metadata": {},
   "outputs": [],
   "source": [
    "# Collaborative \n",
    "user_swiped = [[-1 , 0, 1, 1], [1 ,0, 0, 1]]\n",
    "R = np.array(user_swiped)\n",
    "\n",
    "mf = MF(R, K=2, alpha=0.1, beta=0.01, iterations=20)"
   ]
  },
  {
   "cell_type": "code",
   "execution_count": 247,
   "id": "d1306609-d29d-4a90-9cdc-e1daf8f42504",
   "metadata": {},
   "outputs": [
    {
     "name": "stdout",
     "output_type": "stream",
     "text": [
      "Iteration: 10 ; error = 1.9678\n",
      "Iteration: 20 ; error = 1.9761\n",
      "\n",
      "P x Q:\n",
      "[[0.97611133 0.90124218 0.999546   0.99284541]\n",
      " [0.99547338 0.98584579 1.1367328  1.00430155]]\n",
      "\n",
      "Global bias:\n",
      "0.6\n",
      "\n",
      "User bias:\n",
      "[0.16856639 0.24855886]\n",
      "\n",
      "Item bias:\n",
      "[ 0.11069865  0.         -0.0026351   0.31103181]\n"
     ]
    }
   ],
   "source": [
    "training_process = mf.train()\n",
    "print()\n",
    "print(\"P x Q:\")\n",
    "print(mf.full_matrix())\n",
    "print()\n",
    "print(\"Global bias:\")\n",
    "print(mf.b)\n",
    "print()\n",
    "print(\"User bias:\")\n",
    "print(mf.b_u)\n",
    "print()\n",
    "print(\"Item bias:\")\n",
    "print(mf.b_i)"
   ]
  },
  {
   "cell_type": "code",
   "execution_count": 248,
   "id": "5408a532-eb29-4c49-94cd-b7e62c81f9c8",
   "metadata": {},
   "outputs": [
    {
     "data": {
      "text/plain": [
       "array([[0.72633594, 0.7112047 , 0.73096931, 0.72964958],\n",
       "       [0.73016766, 0.72826661, 0.75707927, 0.73190347]])"
      ]
     },
     "execution_count": 248,
     "metadata": {},
     "output_type": "execute_result"
    }
   ],
   "source": [
    "\"\"\"\n",
    "user_user: [user_1: [item_1, item_2, item_3, item_4], user_2: [item1, item_2, item_3, item_4]\n",
    "\"\"\"\n",
    "user_user = sigmoid(mf.full_matrix())\n",
    "user_user"
   ]
  },
  {
   "cell_type": "code",
   "execution_count": 249,
   "id": "cdba4f19-c089-4078-8a0b-a2b4f7316f2b",
   "metadata": {},
   "outputs": [
    {
     "data": {
      "text/plain": [
       "[[0.9999999999999998,\n",
       "  0.8164965809277259,\n",
       "  0.4999999999999999,\n",
       "  0.7071067811865475],\n",
       " [0.8164965809277259,\n",
       "  1.0000000000000002,\n",
       "  0.8164965809277259,\n",
       "  0.5773502691896258],\n",
       " [0.4999999999999999,\n",
       "  0.8164965809277259,\n",
       "  0.9999999999999998,\n",
       "  0.7071067811865475],\n",
       " [0.7071067811865475, 0.5773502691896258, 0.7071067811865475, 1.0]]"
      ]
     },
     "execution_count": 249,
     "metadata": {},
     "output_type": "execute_result"
    }
   ],
   "source": [
    "'''\n",
    "item_item: [item1: [item_1, item_2, item_3, item_4], item_2: [item_1, item_2, item_3, item_4] ...]\n",
    "'''\n",
    "item_item_matrix"
   ]
  },
  {
   "cell_type": "code",
   "execution_count": 250,
   "id": "1a42bd2b-811b-4b19-9ee1-82d1a95e72e1",
   "metadata": {},
   "outputs": [
    {
     "data": {
      "text/plain": [
       "[[0.7310585786300049,\n",
       "  0.8807970779778823,\n",
       "  0.8807970779778823,\n",
       "  0.7310585786300049],\n",
       " [0.7310585786300049, 0.8807970779778823, 0.7310585786300049, 0.5]]"
      ]
     },
     "execution_count": 250,
     "metadata": {},
     "output_type": "execute_result"
    }
   ],
   "source": [
    "'''\n",
    "item_user: [user_1: [item_1, item_2, item_3, item_4], user_2:[ item_1, item_2, item_3, item_4]]\n",
    "'''\n",
    "item_user"
   ]
  },
  {
   "cell_type": "code",
   "execution_count": 251,
   "id": "bd1cebe5-9ca8-4f8f-88c2-fa1f10416b77",
   "metadata": {},
   "outputs": [],
   "source": [
    "def get_collab_content(item_user_arr, user_user_arr):\n",
    "    collab_content = item_user_arr + user_user_arr\n",
    "    return collab_content"
   ]
  },
  {
   "cell_type": "code",
   "execution_count": 252,
   "id": "9cbc5073-cec0-4120-9994-dc74823f0d17",
   "metadata": {},
   "outputs": [
    {
     "data": {
      "text/plain": [
       "[[1.4573945173793326,\n",
       "  1.5920017825021056,\n",
       "  1.611766385024854,\n",
       "  1.460708155477369],\n",
       " [1.4612262398537526,\n",
       "  1.609063685944038,\n",
       "  1.4881378517097175,\n",
       "  1.231903474433051]]"
      ]
     },
     "execution_count": 252,
     "metadata": {},
     "output_type": "execute_result"
    }
   ],
   "source": [
    "collab_content = get_collab_content(item_user, user_user).tolist()\n",
    "collab_content"
   ]
  },
  {
   "cell_type": "code",
   "execution_count": 253,
   "id": "c8887cee-f39c-4b83-9aaa-268cc7dd8eae",
   "metadata": {},
   "outputs": [],
   "source": [
    "def get_recommendation(user_index, item_item_matrix, collab_content):\n",
    "    user_arr = collab_content[user_index]\n",
    "    recommendation = user_arr.index(max(user_arr))\n",
    "    print(recommendation)\n",
    "    n_recommendation = sorted(item_item_matrix[recommendation], reverse=True)[:3]\n",
    "    print(n_recommendation)\n",
    "    "
   ]
  },
  {
   "cell_type": "code",
   "execution_count": 254,
   "id": "d99a03bb-1888-4135-9c54-6a353961d2d1",
   "metadata": {},
   "outputs": [
    {
     "name": "stdout",
     "output_type": "stream",
     "text": [
      "2\n",
      "[0.9999999999999998, 0.8164965809277259, 0.7071067811865475]\n"
     ]
    }
   ],
   "source": [
    "get_recommendation(0, item_item_matrix, collab_content)"
   ]
  },
  {
   "cell_type": "code",
   "execution_count": 255,
   "id": "094b5c27-121a-4e37-953e-327d64ee8872",
   "metadata": {},
   "outputs": [],
   "source": [
    "df_grab = pd.read_csv(\"complete_grab.csv\")"
   ]
  },
  {
   "cell_type": "code",
   "execution_count": 43,
   "id": "6bb5e927-73a2-4981-a98b-8787effd48e2",
   "metadata": {},
   "outputs": [],
   "source": [
    "import json\n",
    "from ast import literal_eval\n",
    "\n",
    "df_grab\n",
    "\n",
    "df_tran = pd.DataFrame({})\n",
    "ind = 0\n",
    "for cuisine_arr in df_grab['cuisine']:\n",
    "    i = 1\n",
    "    dict_foodie = {}\n",
    "    \n",
    "    if(type(cuisine_arr) != float):\n",
    "        cuisine_arr = literal_eval(cuisine_arr)\n",
    "        for cuisine in cuisine_arr:\n",
    "            string_iter = 'cuisine'+str(i)\n",
    "            dict_foodie[string_iter] = 1\n",
    "            i=i+1\n",
    "    df_foodie = pd.DataFrame.from_records(dict_foodie, index = [ind])\n",
    "    df_foodie = pd.concat([df_grab, df_foodie])\n",
    "    ind+=1"
   ]
  },
  {
   "cell_type": "code",
   "execution_count": 21,
   "id": "9bcd727e-10f6-445b-8e19-d0a7479c236e",
   "metadata": {},
   "outputs": [
    {
     "data": {
      "text/html": [
       "<div>\n",
       "<style scoped>\n",
       "    .dataframe tbody tr th:only-of-type {\n",
       "        vertical-align: middle;\n",
       "    }\n",
       "\n",
       "    .dataframe tbody tr th {\n",
       "        vertical-align: top;\n",
       "    }\n",
       "\n",
       "    .dataframe thead th {\n",
       "        text-align: right;\n",
       "    }\n",
       "</style>\n",
       "<table border=\"1\" class=\"dataframe\">\n",
       "  <thead>\n",
       "    <tr style=\"text-align: right;\">\n",
       "      <th></th>\n",
       "      <th>cuisine1</th>\n",
       "      <th>cuisine10</th>\n",
       "      <th>cuisine11</th>\n",
       "      <th>cuisine12</th>\n",
       "      <th>cuisine13</th>\n",
       "      <th>cuisine14</th>\n",
       "      <th>cuisine15</th>\n",
       "      <th>cuisine16</th>\n",
       "      <th>cuisine17</th>\n",
       "      <th>cuisine18</th>\n",
       "      <th>...</th>\n",
       "      <th>cuisine42</th>\n",
       "      <th>cuisine43</th>\n",
       "      <th>cuisine44</th>\n",
       "      <th>cuisine45</th>\n",
       "      <th>cuisine46</th>\n",
       "      <th>cuisine5</th>\n",
       "      <th>cuisine6</th>\n",
       "      <th>cuisine7</th>\n",
       "      <th>cuisine8</th>\n",
       "      <th>cuisine9</th>\n",
       "    </tr>\n",
       "  </thead>\n",
       "  <tbody>\n",
       "    <tr>\n",
       "      <th>9661</th>\n",
       "      <td>1</td>\n",
       "      <td>1</td>\n",
       "      <td>1</td>\n",
       "      <td>1</td>\n",
       "      <td>1</td>\n",
       "      <td>1</td>\n",
       "      <td>1</td>\n",
       "      <td>1</td>\n",
       "      <td>1</td>\n",
       "      <td>1</td>\n",
       "      <td>...</td>\n",
       "      <td>1</td>\n",
       "      <td>1</td>\n",
       "      <td>1</td>\n",
       "      <td>1</td>\n",
       "      <td>1</td>\n",
       "      <td>1</td>\n",
       "      <td>1</td>\n",
       "      <td>1</td>\n",
       "      <td>1</td>\n",
       "      <td>1</td>\n",
       "    </tr>\n",
       "  </tbody>\n",
       "</table>\n",
       "<p>1 rows × 46 columns</p>\n",
       "</div>"
      ],
      "text/plain": [
       "      cuisine1  cuisine10  cuisine11  cuisine12  cuisine13  cuisine14  \\\n",
       "9661         1          1          1          1          1          1   \n",
       "\n",
       "      cuisine15  cuisine16  cuisine17  cuisine18  ...  cuisine42  cuisine43  \\\n",
       "9661          1          1          1          1  ...          1          1   \n",
       "\n",
       "      cuisine44  cuisine45  cuisine46  cuisine5  cuisine6  cuisine7  cuisine8  \\\n",
       "9661          1          1          1         1         1         1         1   \n",
       "\n",
       "      cuisine9  \n",
       "9661         1  \n",
       "\n",
       "[1 rows x 46 columns]"
      ]
     },
     "execution_count": 21,
     "metadata": {},
     "output_type": "execute_result"
    }
   ],
   "source": [
    "df_foodie"
   ]
  }
 ],
 "metadata": {
  "kernelspec": {
   "display_name": "Python 3 (ipykernel)",
   "language": "python",
   "name": "python3"
  },
  "language_info": {
   "codemirror_mode": {
    "name": "ipython",
    "version": 3
   },
   "file_extension": ".py",
   "mimetype": "text/x-python",
   "name": "python",
   "nbconvert_exporter": "python",
   "pygments_lexer": "ipython3",
   "version": "3.9.18"
  }
 },
 "nbformat": 4,
 "nbformat_minor": 5
}
